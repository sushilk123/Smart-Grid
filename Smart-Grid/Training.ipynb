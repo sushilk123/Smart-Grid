{
 "cells": [
  {
   "cell_type": "code",
   "execution_count": 35,
   "metadata": {},
   "outputs": [],
   "source": [
    "import pandas as pd \n",
    "import numpy as np                     # For mathematical calculations \n",
    "import seaborn as sns                  # For data visualization \n",
    "import matplotlib.pyplot as plt        # For plotting graphs \n",
    "%matplotlib inline \n",
    "import warnings   # To ignore any warnings \n",
    "warnings.filterwarnings(\"ignore\") "
   ]
  },
  {
   "cell_type": "code",
   "execution_count": 100,
   "metadata": {},
   "outputs": [],
   "source": [
    "train = pd.read_excel('consumptionstatemon.xls') "
   ]
  },
  {
   "cell_type": "code",
   "execution_count": 101,
   "metadata": {
    "scrolled": true
   },
   "outputs": [
    {
     "name": "stdout",
     "output_type": "stream",
     "text": [
      "<class 'pandas.core.frame.DataFrame'>\n",
      "RangeIndex: 64996 entries, 0 to 64995\n",
      "Data columns (total 6 columns):\n",
      " #   Column                              Non-Null Count  Dtype  \n",
      "---  ------                              --------------  -----  \n",
      " 0   YEAR                                64996 non-null  int64  \n",
      " 1   MONTH                               64996 non-null  int64  \n",
      " 2   STATE                               64996 non-null  object \n",
      " 3   TYPE OF PRODUCER                    64996 non-null  object \n",
      " 4   ENERGY SOURCE              (UNITS)  64996 non-null  object \n",
      " 5   CONSUMPTION                         64996 non-null  float64\n",
      "dtypes: float64(1), int64(2), object(3)\n",
      "memory usage: 3.0+ MB\n"
     ]
    }
   ],
   "source": [
    "train.info()"
   ]
  },
  {
   "cell_type": "code",
   "execution_count": 184,
   "metadata": {},
   "outputs": [
    {
     "data": {
      "text/plain": [
       "array(['Coal (Short Tons)', 'Petroleum (Barrels)', 'Natural Gas (Mcf)',\n",
       "       'Other Gases (Billion BTU)'], dtype=object)"
      ]
     },
     "execution_count": 184,
     "metadata": {},
     "output_type": "execute_result"
    }
   ],
   "source": [
    "train['ENERGY SOURCE              (UNITS)'].unique()"
   ]
  },
  {
   "cell_type": "code",
   "execution_count": 126,
   "metadata": {
    "scrolled": true
   },
   "outputs": [
    {
     "data": {
      "text/html": [
       "<div>\n",
       "<style scoped>\n",
       "    .dataframe tbody tr th:only-of-type {\n",
       "        vertical-align: middle;\n",
       "    }\n",
       "\n",
       "    .dataframe tbody tr th {\n",
       "        vertical-align: top;\n",
       "    }\n",
       "\n",
       "    .dataframe thead th {\n",
       "        text-align: right;\n",
       "    }\n",
       "</style>\n",
       "<table border=\"1\" class=\"dataframe\">\n",
       "  <thead>\n",
       "    <tr style=\"text-align: right;\">\n",
       "      <th></th>\n",
       "      <th>YEAR</th>\n",
       "      <th>MONTH</th>\n",
       "      <th>STATE</th>\n",
       "      <th>TYPE OF PRODUCER</th>\n",
       "      <th>ENERGY SOURCE              (UNITS)</th>\n",
       "      <th>CONSUMPTION</th>\n",
       "    </tr>\n",
       "  </thead>\n",
       "  <tbody>\n",
       "    <tr>\n",
       "      <th>0</th>\n",
       "      <td>2001</td>\n",
       "      <td>1</td>\n",
       "      <td>AK</td>\n",
       "      <td>Total Electric Power Industry</td>\n",
       "      <td>Coal (Short Tons)</td>\n",
       "      <td>47615.0</td>\n",
       "    </tr>\n",
       "    <tr>\n",
       "      <th>1</th>\n",
       "      <td>2001</td>\n",
       "      <td>1</td>\n",
       "      <td>AK</td>\n",
       "      <td>Total Electric Power Industry</td>\n",
       "      <td>Petroleum (Barrels)</td>\n",
       "      <td>124998.0</td>\n",
       "    </tr>\n",
       "    <tr>\n",
       "      <th>2</th>\n",
       "      <td>2001</td>\n",
       "      <td>1</td>\n",
       "      <td>AK</td>\n",
       "      <td>Total Electric Power Industry</td>\n",
       "      <td>Natural Gas (Mcf)</td>\n",
       "      <td>3941267.0</td>\n",
       "    </tr>\n",
       "    <tr>\n",
       "      <th>3</th>\n",
       "      <td>2001</td>\n",
       "      <td>1</td>\n",
       "      <td>AK</td>\n",
       "      <td>Electric Generators, Electric Utilities</td>\n",
       "      <td>Coal (Short Tons)</td>\n",
       "      <td>16535.0</td>\n",
       "    </tr>\n",
       "    <tr>\n",
       "      <th>4</th>\n",
       "      <td>2001</td>\n",
       "      <td>1</td>\n",
       "      <td>AK</td>\n",
       "      <td>Electric Generators, Electric Utilities</td>\n",
       "      <td>Petroleum (Barrels)</td>\n",
       "      <td>114198.0</td>\n",
       "    </tr>\n",
       "  </tbody>\n",
       "</table>\n",
       "</div>"
      ],
      "text/plain": [
       "   YEAR  MONTH STATE                         TYPE OF PRODUCER  \\\n",
       "0  2001      1    AK            Total Electric Power Industry   \n",
       "1  2001      1    AK            Total Electric Power Industry   \n",
       "2  2001      1    AK            Total Electric Power Industry   \n",
       "3  2001      1    AK  Electric Generators, Electric Utilities   \n",
       "4  2001      1    AK  Electric Generators, Electric Utilities   \n",
       "\n",
       "  ENERGY SOURCE              (UNITS)  CONSUMPTION  \n",
       "0                  Coal (Short Tons)      47615.0  \n",
       "1                Petroleum (Barrels)     124998.0  \n",
       "2                  Natural Gas (Mcf)    3941267.0  \n",
       "3                  Coal (Short Tons)      16535.0  \n",
       "4                Petroleum (Barrels)     114198.0  "
      ]
     },
     "execution_count": 126,
     "metadata": {},
     "output_type": "execute_result"
    }
   ],
   "source": [
    "train.head()"
   ]
  },
  {
   "cell_type": "code",
   "execution_count": 127,
   "metadata": {},
   "outputs": [],
   "source": [
    "x = train.drop(['CONSUMPTION'],axis = 1)\n",
    "y = train['CONSUMPTION']"
   ]
  },
  {
   "cell_type": "code",
   "execution_count": 128,
   "metadata": {},
   "outputs": [
    {
     "data": {
      "text/html": [
       "<div>\n",
       "<style scoped>\n",
       "    .dataframe tbody tr th:only-of-type {\n",
       "        vertical-align: middle;\n",
       "    }\n",
       "\n",
       "    .dataframe tbody tr th {\n",
       "        vertical-align: top;\n",
       "    }\n",
       "\n",
       "    .dataframe thead th {\n",
       "        text-align: right;\n",
       "    }\n",
       "</style>\n",
       "<table border=\"1\" class=\"dataframe\">\n",
       "  <thead>\n",
       "    <tr style=\"text-align: right;\">\n",
       "      <th></th>\n",
       "      <th>YEAR</th>\n",
       "      <th>MONTH</th>\n",
       "      <th>STATE</th>\n",
       "      <th>TYPE OF PRODUCER</th>\n",
       "      <th>ENERGY SOURCE              (UNITS)</th>\n",
       "    </tr>\n",
       "  </thead>\n",
       "  <tbody>\n",
       "    <tr>\n",
       "      <th>0</th>\n",
       "      <td>2001</td>\n",
       "      <td>1</td>\n",
       "      <td>AK</td>\n",
       "      <td>Total Electric Power Industry</td>\n",
       "      <td>Coal (Short Tons)</td>\n",
       "    </tr>\n",
       "    <tr>\n",
       "      <th>1</th>\n",
       "      <td>2001</td>\n",
       "      <td>1</td>\n",
       "      <td>AK</td>\n",
       "      <td>Total Electric Power Industry</td>\n",
       "      <td>Petroleum (Barrels)</td>\n",
       "    </tr>\n",
       "    <tr>\n",
       "      <th>2</th>\n",
       "      <td>2001</td>\n",
       "      <td>1</td>\n",
       "      <td>AK</td>\n",
       "      <td>Total Electric Power Industry</td>\n",
       "      <td>Natural Gas (Mcf)</td>\n",
       "    </tr>\n",
       "    <tr>\n",
       "      <th>3</th>\n",
       "      <td>2001</td>\n",
       "      <td>1</td>\n",
       "      <td>AK</td>\n",
       "      <td>Electric Generators, Electric Utilities</td>\n",
       "      <td>Coal (Short Tons)</td>\n",
       "    </tr>\n",
       "    <tr>\n",
       "      <th>4</th>\n",
       "      <td>2001</td>\n",
       "      <td>1</td>\n",
       "      <td>AK</td>\n",
       "      <td>Electric Generators, Electric Utilities</td>\n",
       "      <td>Petroleum (Barrels)</td>\n",
       "    </tr>\n",
       "  </tbody>\n",
       "</table>\n",
       "</div>"
      ],
      "text/plain": [
       "   YEAR  MONTH STATE                         TYPE OF PRODUCER  \\\n",
       "0  2001      1    AK            Total Electric Power Industry   \n",
       "1  2001      1    AK            Total Electric Power Industry   \n",
       "2  2001      1    AK            Total Electric Power Industry   \n",
       "3  2001      1    AK  Electric Generators, Electric Utilities   \n",
       "4  2001      1    AK  Electric Generators, Electric Utilities   \n",
       "\n",
       "  ENERGY SOURCE              (UNITS)  \n",
       "0                  Coal (Short Tons)  \n",
       "1                Petroleum (Barrels)  \n",
       "2                  Natural Gas (Mcf)  \n",
       "3                  Coal (Short Tons)  \n",
       "4                Petroleum (Barrels)  "
      ]
     },
     "execution_count": 128,
     "metadata": {},
     "output_type": "execute_result"
    }
   ],
   "source": [
    "x.head()"
   ]
  },
  {
   "cell_type": "code",
   "execution_count": 129,
   "metadata": {},
   "outputs": [
    {
     "data": {
      "text/plain": [
       "YEAR                                  0\n",
       "MONTH                                 0\n",
       "STATE                                 0\n",
       "TYPE OF PRODUCER                      0\n",
       "ENERGY SOURCE              (UNITS)    0\n",
       "CONSUMPTION                           0\n",
       "dtype: int64"
      ]
     },
     "execution_count": 129,
     "metadata": {},
     "output_type": "execute_result"
    }
   ],
   "source": [
    "train.isnull().sum() "
   ]
  },
  {
   "cell_type": "code",
   "execution_count": 158,
   "metadata": {},
   "outputs": [
    {
     "data": {
      "text/plain": [
       "(64996, 5)"
      ]
     },
     "execution_count": 158,
     "metadata": {},
     "output_type": "execute_result"
    }
   ],
   "source": [
    "x.shape"
   ]
  },
  {
   "cell_type": "code",
   "execution_count": 159,
   "metadata": {},
   "outputs": [],
   "source": [
    "from sklearn.preprocessing import LabelEncoder"
   ]
  },
  {
   "cell_type": "code",
   "execution_count": 160,
   "metadata": {},
   "outputs": [],
   "source": [
    "class MultiColumnLabelEncoder(LabelEncoder):\n",
    "    \"\"\"\n",
    "    Wraps sklearn LabelEncoder functionality for use on multiple columns of a\n",
    "    pandas dataframe.\n",
    "\n",
    "    \"\"\"\n",
    "    def __init__(self, columns=None):\n",
    "        self.columns = columns\n",
    "\n",
    "    def fit(self, dframe):\n",
    "        \"\"\"\n",
    "        Fit label encoder to pandas columns.\n",
    "\n",
    "        Access individual column classes via indexig `self.all_classes_`\n",
    "\n",
    "        Access individual column encoders via indexing\n",
    "        `self.all_encoders_`\n",
    "        \"\"\"\n",
    "        # if columns are provided, iterate through and get `classes_`\n",
    "        if self.columns is not None:\n",
    "            # ndarray to hold LabelEncoder().classes_ for each\n",
    "            # column; should match the shape of specified `columns`\n",
    "            self.all_classes_ = np.ndarray(shape=self.columns.shape,\n",
    "                                           dtype=object)\n",
    "            self.all_encoders_ = np.ndarray(shape=self.columns.shape,\n",
    "                                            dtype=object)\n",
    "            for idx, column in enumerate(self.columns):\n",
    "                # fit LabelEncoder to get `classes_` for the column\n",
    "                le = LabelEncoder()\n",
    "                le.fit(dframe.loc[:, column].values)\n",
    "                # append the `classes_` to our ndarray container\n",
    "                self.all_classes_[idx] = (column,\n",
    "                                          np.array(le.classes_.tolist(),\n",
    "                                                  dtype=object))\n",
    "                # append this column's encoder\n",
    "                self.all_encoders_[idx] = le\n",
    "        else:\n",
    "            # no columns specified; assume all are to be encoded\n",
    "            self.columns = dframe.iloc[:, :].columns\n",
    "            self.all_classes_ = np.ndarray(shape=self.columns.shape,\n",
    "                                           dtype=object)\n",
    "            for idx, column in enumerate(self.columns):\n",
    "                le = LabelEncoder()\n",
    "                le.fit(dframe.loc[:, column].values)\n",
    "                self.all_classes_[idx] = (column,\n",
    "                                          np.array(le.classes_.tolist(),\n",
    "                                                  dtype=object))\n",
    "                self.all_encoders_[idx] = le\n",
    "        return self\n",
    "\n",
    "    def fit_transform(self, dframe):\n",
    "        \"\"\"\n",
    "        Fit label encoder and return encoded labels.\n",
    "\n",
    "        Access individual column classes via indexing\n",
    "        `self.all_classes_`\n",
    "\n",
    "        Access individual column encoders via indexing\n",
    "        `self.all_encoders_`\n",
    "\n",
    "        Access individual column encoded labels via indexing\n",
    "        `self.all_labels_`\n",
    "        \"\"\"\n",
    "        # if columns are provided, iterate through and get `classes_`\n",
    "        if self.columns is not None:\n",
    "            # ndarray to hold LabelEncoder().classes_ for each\n",
    "            # column; should match the shape of specified `columns`\n",
    "            self.all_classes_ = np.ndarray(shape=self.columns.shape,\n",
    "                                           dtype=object)\n",
    "            self.all_encoders_ = np.ndarray(shape=self.columns.shape,\n",
    "                                            dtype=object)\n",
    "            self.all_labels_ = np.ndarray(shape=self.columns.shape,\n",
    "                                          dtype=object)\n",
    "            for idx, column in enumerate(self.columns):\n",
    "                # instantiate LabelEncoder\n",
    "                le = LabelEncoder()\n",
    "                # fit and transform labels in the column\n",
    "                dframe.loc[:, column] =\\\n",
    "                    le.fit_transform(dframe.loc[:, column].values)\n",
    "                # append the `classes_` to our ndarray container\n",
    "                self.all_classes_[idx] = (column,\n",
    "                                          np.array(le.classes_.tolist(),\n",
    "                                                  dtype=object))\n",
    "                self.all_encoders_[idx] = le\n",
    "                self.all_labels_[idx] = le\n",
    "        else:\n",
    "            # no columns specified; assume all are to be encoded\n",
    "            self.columns = dframe.iloc[:, :].columns\n",
    "            self.all_classes_ = np.ndarray(shape=self.columns.shape,\n",
    "                                           dtype=object)\n",
    "            for idx, column in enumerate(self.columns):\n",
    "                le = LabelEncoder()\n",
    "                dframe.loc[:, column] = le.fit_transform(\n",
    "                        dframe.loc[:, column].values)\n",
    "                self.all_classes_[idx] = (column,\n",
    "                                          np.array(le.classes_.tolist(),\n",
    "                                                  dtype=object))\n",
    "                self.all_encoders_[idx] = le\n",
    "        return dframe.loc[:, self.columns].values\n",
    "\n",
    "    def transform(self, dframe):\n",
    "        \"\"\"\n",
    "        Transform labels to normalized encoding.\n",
    "        \"\"\"\n",
    "        if self.columns is not None:\n",
    "            for idx, column in enumerate(self.columns):\n",
    "                dframe.loc[:, column] = self.all_encoders_[\n",
    "                    idx].transform(dframe.loc[:, column].values)\n",
    "        else:\n",
    "            self.columns = dframe.iloc[:, :].columns\n",
    "            for idx, column in enumerate(self.columns):\n",
    "                dframe.loc[:, column] = self.all_encoders_[idx]\\\n",
    "                    .transform(dframe.loc[:, column].values)\n",
    "        return dframe.loc[:, self.columns].values\n",
    "\n",
    "    def inverse_transform(self, dframe):\n",
    "        \"\"\"\n",
    "        Transform labels back to original encoding.\n",
    "        \"\"\"\n",
    "        if self.columns is not None:\n",
    "            for idx, column in enumerate(self.columns):\n",
    "                dframe.loc[:, column] = self.all_encoders_[idx]\\\n",
    "                    .inverse_transform(dframe.loc[:, column].values)\n",
    "        else:\n",
    "            self.columns = dframe.iloc[:, :].columns\n",
    "            for idx, column in enumerate(self.columns):\n",
    "                dframe.loc[:, column] = self.all_encoders_[idx]\\\n",
    "                    .inverse_transform(dframe.loc[:, column].values)\n",
    "        return dframe.loc[:, self.columns].values"
   ]
  },
  {
   "cell_type": "code",
   "execution_count": 161,
   "metadata": {},
   "outputs": [
    {
     "data": {
      "text/plain": [
       "MultiColumnLabelEncoder(columns=Index([], dtype='object'))"
      ]
     },
     "execution_count": 161,
     "metadata": {},
     "output_type": "execute_result"
    }
   ],
   "source": [
    "x1 = x.iloc[:, :].select_dtypes(include=['object']).columns\n",
    "mcle = MultiColumnLabelEncoder(columns=x1)\n",
    "mcle"
   ]
  },
  {
   "cell_type": "code",
   "execution_count": 162,
   "metadata": {},
   "outputs": [
    {
     "data": {
      "text/plain": [
       "MultiColumnLabelEncoder(columns=Index([], dtype='object'))"
      ]
     },
     "execution_count": 162,
     "metadata": {},
     "output_type": "execute_result"
    }
   ],
   "source": [
    "mcle.fit(x)"
   ]
  },
  {
   "cell_type": "code",
   "execution_count": 163,
   "metadata": {},
   "outputs": [],
   "source": [
    "x1 = mcle.transform(x)"
   ]
  },
  {
   "cell_type": "code",
   "execution_count": 164,
   "metadata": {},
   "outputs": [],
   "source": [
    "import pickle \n",
    "\n",
    "file = open('label_encodings', 'wb')\n",
    "\n",
    "# dump information to that file\n",
    "pickle.dump(mcle, file)\n",
    "\n",
    "# close the file\n",
    "file.close()"
   ]
  },
  {
   "cell_type": "code",
   "execution_count": 165,
   "metadata": {},
   "outputs": [
    {
     "data": {
      "text/plain": [
       "array([[2.001e+03, 1.000e+00, 0.000e+00, 5.000e+00, 0.000e+00],\n",
       "       [2.001e+03, 1.000e+00, 0.000e+00, 5.000e+00, 3.000e+00],\n",
       "       [2.001e+03, 1.000e+00, 0.000e+00, 5.000e+00, 1.000e+00],\n",
       "       ...,\n",
       "       [2.007e+03, 1.200e+01, 4.400e+01, 2.000e+00, 3.000e+00],\n",
       "       [2.007e+03, 1.200e+01, 4.400e+01, 2.000e+00, 1.000e+00],\n",
       "       [2.007e+03, 1.200e+01, 4.400e+01, 2.000e+00, 2.000e+00]])"
      ]
     },
     "execution_count": 165,
     "metadata": {},
     "output_type": "execute_result"
    }
   ],
   "source": [
    "encoded_features = np.concatenate((x.select_dtypes(['int64']).values,x1),axis=1)\n",
    "encoded_features"
   ]
  },
  {
   "cell_type": "code",
   "execution_count": 166,
   "metadata": {},
   "outputs": [
    {
     "data": {
      "text/plain": [
       "(64996, 5)"
      ]
     },
     "execution_count": 166,
     "metadata": {},
     "output_type": "execute_result"
    }
   ],
   "source": [
    "encoded_features.shape"
   ]
  },
  {
   "cell_type": "code",
   "execution_count": 167,
   "metadata": {},
   "outputs": [],
   "source": [
    "from sklearn.model_selection import train_test_split\n",
    "x_train,x_test,y_train,y_test=train_test_split(encoded_features,y,test_size=.30)"
   ]
  },
  {
   "cell_type": "code",
   "execution_count": 168,
   "metadata": {},
   "outputs": [],
   "source": [
    "from sklearn.ensemble import RandomForestRegressor\n",
    "from sklearn.model_selection import GridSearchCV , RandomizedSearchCV\n",
    "clf = RandomForestRegressor() "
   ]
  },
  {
   "cell_type": "code",
   "execution_count": 169,
   "metadata": {},
   "outputs": [],
   "source": [
    "param = {'bootstrap': [True, False],\n",
    "'max_depth': [5,10, None],\n",
    "'min_samples_leaf': [1, 2, 4],\n",
    "'min_samples_split': [2, 5, 10],\n",
    "'n_estimators': [50,100]} "
   ]
  },
  {
   "cell_type": "code",
   "execution_count": 170,
   "metadata": {},
   "outputs": [],
   "source": [
    "grid_search = GridSearchCV(clf,param_grid = param,cv = 5) "
   ]
  },
  {
   "cell_type": "code",
   "execution_count": 171,
   "metadata": {},
   "outputs": [],
   "source": [
    "#random_search = RandomizedSearchCV(clf, param_distributions=pram2,n_iter=10, cv=5) \n",
    "random_search = RandomizedSearchCV(clf, param_distributions=param,n_iter=10, cv=5) "
   ]
  },
  {
   "cell_type": "code",
   "execution_count": 172,
   "metadata": {},
   "outputs": [],
   "source": [
    "regr = RandomForestRegressor(bootstrap= True,\n",
    " max_depth= None,\n",
    " min_samples_leaf= 1,\n",
    " min_samples_split= 2,\n",
    " n_estimators= 20)"
   ]
  },
  {
   "cell_type": "code",
   "execution_count": 173,
   "metadata": {},
   "outputs": [
    {
     "data": {
      "text/plain": [
       "RandomForestRegressor(n_estimators=20)"
      ]
     },
     "execution_count": 173,
     "metadata": {},
     "output_type": "execute_result"
    }
   ],
   "source": [
    "regr.fit(x_train,y_train) "
   ]
  },
  {
   "cell_type": "code",
   "execution_count": 174,
   "metadata": {},
   "outputs": [
    {
     "name": "stdout",
     "output_type": "stream",
     "text": [
      "(45497, 5)\n",
      "(19499, 5)\n"
     ]
    }
   ],
   "source": [
    "print(x_train.shape)\n",
    "print(x_test.shape)"
   ]
  },
  {
   "cell_type": "code",
   "execution_count": 175,
   "metadata": {},
   "outputs": [
    {
     "name": "stdout",
     "output_type": "stream",
     "text": [
      "[7.67010450e+03 1.20842893e+07 3.10000000e+00 ... 3.96666000e+02\n",
      " 1.22500000e+01 3.94610500e+04]\n"
     ]
    }
   ],
   "source": [
    "file = open('random_forest_model', 'wb')\n",
    "pickle.dump(regr, file)\n",
    "file.close()\n",
    "loaded_model1 = pickle.load(open('random_forest_model', 'rb'))\n",
    "result = loaded_model1.predict(x_test)\n",
    "print(result) "
   ]
  },
  {
   "cell_type": "code",
   "execution_count": 176,
   "metadata": {},
   "outputs": [
    {
     "data": {
      "text/plain": [
       "(0.9984751272102944, 0.9821990274557068)"
      ]
     },
     "execution_count": 176,
     "metadata": {},
     "output_type": "execute_result"
    }
   ],
   "source": [
    "regr.score(x_train,y_train) ,regr.score(x_test,y_test) "
   ]
  },
  {
   "cell_type": "code",
   "execution_count": 177,
   "metadata": {},
   "outputs": [],
   "source": [
    "pred = regr.predict(x_test)"
   ]
  },
  {
   "cell_type": "code",
   "execution_count": 178,
   "metadata": {},
   "outputs": [
    {
     "data": {
      "text/plain": [
       "array([  45672.797,  835652.708, 1934214.85 ,       0.   ,  515950.043])"
      ]
     },
     "execution_count": 178,
     "metadata": {},
     "output_type": "execute_result"
    }
   ],
   "source": [
    "pred[5:10] "
   ]
  },
  {
   "cell_type": "code",
   "execution_count": 179,
   "metadata": {},
   "outputs": [
    {
     "data": {
      "text/plain": [
       "array([5490.436])"
      ]
     },
     "execution_count": 179,
     "metadata": {},
     "output_type": "execute_result"
    }
   ],
   "source": [
    "pred1 = regr.predict(np.array([[ 425.6, 8070.5828, 320005.5162,   4557.7218,   9870.62]])) \n",
    "pred1"
   ]
  },
  {
   "cell_type": "code",
   "execution_count": null,
   "metadata": {},
   "outputs": [],
   "source": []
  }
 ],
 "metadata": {
  "kernelspec": {
   "display_name": "Python 3",
   "language": "python",
   "name": "python3"
  },
  "language_info": {
   "codemirror_mode": {
    "name": "ipython",
    "version": 3
   },
   "file_extension": ".py",
   "mimetype": "text/x-python",
   "name": "python",
   "nbconvert_exporter": "python",
   "pygments_lexer": "ipython3",
   "version": "3.8.5"
  }
 },
 "nbformat": 4,
 "nbformat_minor": 2
}
